{
  "nbformat": 4,
  "nbformat_minor": 0,
  "metadata": {
    "colab": {
      "provenance": []
    },
    "kernelspec": {
      "name": "python3",
      "display_name": "Python 3"
    },
    "language_info": {
      "name": "python"
    }
  },
  "cells": [
    {
      "cell_type": "code",
      "execution_count": null,
      "metadata": {
        "id": "T3Co9-REAOL8"
      },
      "outputs": [],
      "source": [
        "import itertools\n",
        "\n",
        "def sums(matrix):  #pour affecter les workers dans les machines \n",
        "    l=[]\n",
        "    v = [0, 1, 2]\n",
        "    vv = v\n",
        "    pos = 1\n",
        "    sum = 0\n",
        "    for i in range(3):\n",
        "        sum += matrix[i][vv[i]]\n",
        "    d = {}\n",
        "    pos += 1\n",
        "    vv = list(itertools.permutations(vv))\n",
        "    for val in vv:\n",
        "        sum = 0\n",
        "        for i in range(3):\n",
        "            sum += matrix[i][val[i]]\n",
        "        d[val] = sum\n",
        "        l+=[sum]\n",
        "        a = min(d, key=d.get)\n",
        "        pos += 1\n",
        "    return min(l), a #retourne valeur minimale de job et affectation des workers"
      ]
    },
    {
      "cell_type": "code",
      "source": [
        "import random\n",
        "\n",
        "random_list = [[random.sample(range(0,9),3) for _ in range(3)] for _ in range(4)]\n",
        "print(random_list)"
      ],
      "metadata": {
        "colab": {
          "base_uri": "https://localhost:8080/"
        },
        "id": "Mn98yY6-y32u",
        "outputId": "87080dd3-15af-4ecc-dc03-8cf9e942899e"
      },
      "execution_count": null,
      "outputs": [
        {
          "output_type": "stream",
          "name": "stdout",
          "text": [
            "[[[8, 1, 7], [3, 8, 4], [5, 1, 3]], [[2, 6, 8], [8, 1, 2], [3, 6, 5]], [[4, 2, 0], [2, 1, 6], [4, 8, 5]], [[1, 5, 2], [2, 5, 4], [6, 8, 1]]]\n"
          ]
        }
      ]
    },
    {
      "cell_type": "code",
      "source": [
        "def calculate_makespan(matrix,factory, permutation):\n",
        "  somme = 0\n",
        "  if len(factory) == 1:  #si on a un seul job dans le factory\n",
        "    x=matrix[factory[0]][0][permutation[0]]\n",
        "    y=matrix[factory[0]][1][permutation[1]]\n",
        "    z=matrix[factory[0]][2][permutation[2]]\n",
        "    somme =x+y+z\n",
        "  else:\n",
        "    somme = matrix[factory[0]][0][permutation[0]]\n",
        "    for i in range(len(factory)):\n",
        "      for j in range(i+1,len(factory)):\n",
        "        for k in range(1,len(permutation)):\n",
        "          a = matrix[factory[i]][k][permutation[k]]\n",
        "          b = matrix[factory[j]][k-1][permutation[k-1]]\n",
        "          if a>=b :\n",
        "            somme += a\n",
        "          else:\n",
        "            somme += b\n",
        "            if k < len(permutation) -1:\n",
        "              matrix[factory[i]][k+1][permutation[k+1]] -= b-a\n",
        "            else:\n",
        "              somme += matrix[factory[j]][k][permutation[k]]\n",
        "  return somme\n"
      ],
      "metadata": {
        "id": "4qGdCvE92Xq2"
      },
      "execution_count": null,
      "outputs": []
    },
    {
      "cell_type": "code",
      "source": [
        "def neh (matrix,jobs):\n",
        "    d={}\n",
        "    l=[i for i in range(jobs)]\n",
        "    for i in range(jobs) :\n",
        "        d[i],l[i]=sums(matrix[i]) #clé : nombre de job , valeur : valeur minimale\n",
        "    S1 = sorted(d.items(), key=lambda x: x[1], reverse=True) #dictionnaire sorted\n",
        "    print(\"S1:\",S1)\n",
        "    S = [i[0]  for i in S1 ] # liste des jobs \n",
        "    F1 = [S[0]]\n",
        "    F2 = [S[1]]\n",
        "    a1 = l[S[0]] #  affetctation des workers\n",
        "    a2 = l[S[1]]\n",
        "    for j in range(2,len(S)):\n",
        "        v = calculate_makespan(matrix,F1,a1)\n",
        "        w = calculate_makespan(matrix,F2,a2)\n",
        "        if v < w : \n",
        "          F1.append(S[j])\n",
        "        else :\n",
        "          F2.append(S[j])\n",
        "    print(\"F1: \",F1,calculate_makespan(matrix,F1,a1))\n",
        "    print(\"F2: \",F2,calculate_makespan(matrix,F2,a2))\n",
        "    d = dict()\n",
        "    d[\"F1\"] = (F1, a1, calculate_makespan(matrix,F1,a1))\n",
        "    d[\"F2\"] = (F2, a2, calculate_makespan(matrix,F2,a2))\n",
        "    return d\n"
      ],
      "metadata": {
        "id": "ATO9dxfc2UZl"
      },
      "execution_count": null,
      "outputs": []
    },
    {
      "cell_type": "code",
      "source": [
        "matrix = [[[4, 3, 9], [3, 4, 5], [7, 4, 2]],[[9, 4, 7], [6, 10, 4], [8, 7, 1]],[[7, 9, 8], [8, 3, 7], [9, 6, 4]],[[7,4,6],[6,5,7],[9,5,2]]]\n",
        "matrix"
      ],
      "metadata": {
        "id": "5F0cPADhAauq",
        "colab": {
          "base_uri": "https://localhost:8080/"
        },
        "outputId": "336ba506-4050-4f23-ddd4-2754cb0ab675"
      },
      "execution_count": null,
      "outputs": [
        {
          "output_type": "execute_result",
          "data": {
            "text/plain": [
              "[[[4, 3, 9], [3, 4, 5], [7, 4, 2]],\n",
              " [[9, 4, 7], [6, 10, 4], [8, 7, 1]],\n",
              " [[7, 9, 8], [8, 3, 7], [9, 6, 4]],\n",
              " [[7, 4, 6], [6, 5, 7], [9, 5, 2]]]"
            ]
          },
          "metadata": {},
          "execution_count": 47
        }
      ]
    },
    {
      "cell_type": "code",
      "source": [
        "neh(random_list,4)"
      ],
      "metadata": {
        "colab": {
          "base_uri": "https://localhost:8080/"
        },
        "id": "uE7BEXXqLkUY",
        "outputId": "c80a64c3-19f4-414e-80b7-a23bb868804b"
      },
      "execution_count": null,
      "outputs": [
        {
          "output_type": "stream",
          "name": "stdout",
          "text": [
            "S1: [(1, 8), (0, 7), (3, 7), (2, 5)]\n",
            "F1:  [1, 2] 8\n",
            "F2:  [0, 3] 9\n"
          ]
        },
        {
          "output_type": "execute_result",
          "data": {
            "text/plain": [
              "{'F1': ([1, 2], (0, 1, 2), 12), 'F2': ([0, 3], (1, 0, 2), 9)}"
            ]
          },
          "metadata": {},
          "execution_count": 138
        }
      ]
    },
    {
      "cell_type": "code",
      "source": [
        "m = [[4, 3, 9], [3, 4, 5], [7, 4, 2]]\n",
        "sums(m)\n"
      ],
      "metadata": {
        "id": "kNAyvdm4AdlC",
        "outputId": "c50386f8-f9c1-44b2-d5cc-55237c5e0a7b",
        "colab": {
          "base_uri": "https://localhost:8080/"
        }
      },
      "execution_count": null,
      "outputs": [
        {
          "output_type": "execute_result",
          "data": {
            "text/plain": [
              "(8, (1, 0, 2))"
            ]
          },
          "metadata": {},
          "execution_count": 27
        }
      ]
    },
    {
      "cell_type": "code",
      "source": [
        "matrix"
      ],
      "metadata": {
        "id": "bupHmed0aN87",
        "colab": {
          "base_uri": "https://localhost:8080/"
        },
        "outputId": "8401bc2a-a555-461f-91c7-565b2e228aef"
      },
      "execution_count": null,
      "outputs": [
        {
          "output_type": "execute_result",
          "data": {
            "text/plain": [
              "[[[4, 3, 9], [3, 4, 5], [7, 4, 2]],\n",
              " [[9, 4, 7], [6, 10, 4], [8, 7, 1]],\n",
              " [[7, 9, 8], [8, 3, 7], [9, 6, 2]],\n",
              " [[7, 4, 6], [6, 5, 7], [9, 5, 2]]]"
            ]
          },
          "metadata": {},
          "execution_count": 42
        }
      ]
    },
    {
      "cell_type": "markdown",
      "source": [
        "### **Diagramme de Gantt**"
      ],
      "metadata": {
        "id": "IEFvuRVvKXCF"
      }
    },
    {
      "cell_type": "code",
      "source": [
        "import matplotlib.pyplot as plt\n",
        "import matplotlib"
      ],
      "metadata": {
        "id": "-wCrlAObPZ48"
      },
      "execution_count": null,
      "outputs": []
    },
    {
      "cell_type": "code",
      "source": [
        "def generate(a, b):\n",
        "    c= [0]\n",
        "    d = [a[0]]\n",
        "    for i in range(len(a)-1):\n",
        "        c.append(c[-1] + a[i])\n",
        "    for i in range(len(b)-1):\n",
        "        d.append(d[-1] + b[i])\n",
        "    return c,d\n",
        "\n",
        "a = [7, 3, 4]\n",
        "b = [4, 4, 2]\n",
        "generate(a, b)"
      ],
      "metadata": {
        "colab": {
          "base_uri": "https://localhost:8080/"
        },
        "id": "s_ajkGE4lhd-",
        "outputId": "5459d98e-b333-4b3c-890f-18ede280a06e"
      },
      "execution_count": null,
      "outputs": [
        {
          "output_type": "execute_result",
          "data": {
            "text/plain": [
              "([0, 7, 10], [7, 11, 15])"
            ]
          },
          "metadata": {},
          "execution_count": 108
        }
      ]
    },
    {
      "cell_type": "code",
      "source": [
        "d = neh(matrix, 4)\n",
        "matrix = [[[4, 3, 9], [3, 4, 5], [7, 4, 2]],[[9, 4, 7], [6, 10, 4], [8, 7, 1]],[[7, 9, 8], [8, 3, 7], [9, 6, 4]],[[7,4,6],[6,5,7],[9,5,2]]]\n",
        "plt.figure(figsize=(10, 10))\n",
        "l2 = [1,2,3]\n",
        "for i, fac in enumerate(d.keys()):\n",
        "  plt.subplot(2, 1, i+1)\n",
        "  process_time = list()\n",
        "  l1= []\n",
        "  for j in d[fac][0]:\n",
        "    l = matrix[j]\n",
        "    workers = d[fac][1]\n",
        "    process_time = [x[worker] for worker, x in zip(workers, l)]\n",
        "    l1.append(process_time)\n",
        "  T = generate(l1[0], l1[1])\n",
        "  plt.barh(y = l2, width= l1[0], left = T[0], color='green')\n",
        "  plt.barh(y = l2, width= l1[1], left = T[1], color='blue')\n",
        "  plt.gca().invert_yaxis()\n",
        "  plt.legend()\n"
      ],
      "metadata": {
        "colab": {
          "base_uri": "https://localhost:8080/",
          "height": 679
        },
        "id": "0KNUjMHXPdrX",
        "outputId": "b44bf184-7f6e-4587-8b51-138cc19bf485"
      },
      "execution_count": null,
      "outputs": [
        {
          "output_type": "stream",
          "name": "stderr",
          "text": [
            "WARNING:matplotlib.legend:No handles with labels found to put in legend.\n",
            "WARNING:matplotlib.legend:No handles with labels found to put in legend.\n"
          ]
        },
        {
          "output_type": "stream",
          "name": "stdout",
          "text": [
            "S1: [(2, 14), (3, 12), (1, 11), (0, 8)]\n",
            "F1:  [2, 0] 17\n",
            "F2:  [3, 1] 17\n"
          ]
        },
        {
          "output_type": "display_data",
          "data": {
            "text/plain": [
              "<Figure size 720x720 with 2 Axes>"
            ],
            "image/png": "[encoded data removed]"
          },
          "metadata": {
            "needs_background": "light"
          }
        }
      ]
    },
    {
      "cell_type": "code",
      "source": [],
      "metadata": {
        "id": "IGoJIbskrKQJ"
      },
      "execution_count": null,
      "outputs": []
    }
  ]
}